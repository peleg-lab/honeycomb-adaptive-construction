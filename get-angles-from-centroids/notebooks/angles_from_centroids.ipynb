{
 "cells": [
  {
   "cell_type": "code",
   "execution_count": 1,
   "id": "95b4f6fe-a6a1-4ae1-acb3-5348e34cb7e2",
   "metadata": {},
   "outputs": [],
   "source": [
    "import pandas as pd\n",
    "import numpy as np\n",
    "\n",
    "import matplotlib.pyplot as plt\n",
    "import seaborn as sns"
   ]
  },
  {
   "cell_type": "markdown",
   "id": "eaa7639e-487a-4d54-af9c-a57cd981f77e",
   "metadata": {},
   "source": [
    "# Helper functions"
   ]
  },
  {
   "cell_type": "code",
   "execution_count": 2,
   "id": "bb6d2672-cc04-4e95-afd2-5f74a6c163d2",
   "metadata": {},
   "outputs": [],
   "source": [
    "def compute_plane_eqn_from_points(points, plane_name='Input'):\n",
    "    \"\"\"\n",
    "    Compute the equation of a plane from a set of points using Principal Component Analysis (PCA).\n",
    "\n",
    "    Parameters:\n",
    "        points (numpy.ndarray): A 2D array representing the points in 3D space. Each row represents a point, \n",
    "                                and each column represents the coordinate (x, y, z).\n",
    "        plane_name (str, optional): Name of the plane for identification (default is 'Input').\n",
    "\n",
    "    Returns:\n",
    "        numpy.ndarray: A 1D array representing the normal vector to the plane.\n",
    "\n",
    "    Description:\n",
    "        This function computes the equation of a plane that best fits the given set of points using Principal \n",
    "        Component Analysis (PCA). It first calculates the mean of the points and then computes the covariance \n",
    "        matrix. Next, it finds the eigenvectors and eigenvalues of the covariance matrix and selects the \n",
    "        eigenvector corresponding to the smallest eigenvalue as the normal vector to the plane. Finally, it \n",
    "        calculates the coefficients (a, b, c) of the plane equation ax + by + cz = d and returns the normal \n",
    "        vector.\n",
    "\n",
    "    Example:\n",
    "        >>> points = np.array([[1, 2, 3], [4, 5, 6], [7, 8, 9]])\n",
    "        >>> normal_vector = compute_plane_eqn_from_points(points, 'Custom')\n",
    "        >>> print(normal_vector)\n",
    "        [0.57735027 0.57735027 0.57735027]\n",
    "    \"\"\"\n",
    "    # Compute the mean of the points\n",
    "    mean_point = np.mean(points, axis=0)\n",
    "    \n",
    "    # Compute the covariance matrix\n",
    "    cov_matrix = np.cov(points, rowvar=False)\n",
    "    \n",
    "    # Find the eigenvectors and eigenvalues of the covariance matrix\n",
    "    eigenvalues, eigenvectors = np.linalg.eig(cov_matrix)\n",
    "    \n",
    "    # Find the index of the smallest eigenvalue\n",
    "    min_eigenvalue_index = np.argmin(eigenvalues)\n",
    "    \n",
    "    # Normal vector to the plane\n",
    "    normal_vector = eigenvectors[:, min_eigenvalue_index]\n",
    "    \n",
    "    # Coefficients (a, b, c) of the plane equation ax + by + cz = d\n",
    "    a, b, c = normal_vector\n",
    "    \n",
    "    # Calculate d using the mean point\n",
    "    d = -np.dot(normal_vector, mean_point)\n",
    "    \n",
    "    # Equation of the plane\n",
    "    # print(f\"Equation of the {plane_name} plane: {a}x + {b}y + {c}z + {d} = 0\")\n",
    "    return normal_vector"
   ]
  },
  {
   "cell_type": "code",
   "execution_count": 3,
   "id": "aaebafcc-17ca-472d-8437-b2940b4252b7",
   "metadata": {},
   "outputs": [],
   "source": [
    "def compute_angles(top_layer_centroids_df, base_layer_centroids_df, caption_pairs_df):\n",
    "    \"\"\"\n",
    "    Compute the angles of tilt between connecting vectors and the normal vector to the base plane.\n",
    "\n",
    "    Parameters:\n",
    "        top_layer_centroids_df (pandas.DataFrame): DataFrame containing centroids of components in the top layer.\n",
    "        base_layer_centroids_df (pandas.DataFrame): DataFrame containing centroids of components in the base layer.\n",
    "        caption_pairs_df (pandas.DataFrame): DataFrame containing pairs of captions linking top and base layers.\n",
    "\n",
    "    Returns:\n",
    "        pandas.DataFrame: DataFrame containing angles of tilt for each connecting vector.\n",
    "\n",
    "    Description:\n",
    "        This function computes the angles of tilt between connecting vectors and the normal vector to the base plane.\n",
    "        It first merges the top and base layer centroid DataFrames using the caption_pairs DataFrame. Then, it \n",
    "        calculates the connecting vectors connecting the centroids of a cell in the top and base layer. Next, it \n",
    "        computes the vector normal to the base plane using the centroids of the base layer. Finally, it computes \n",
    "        the angle of tilt between each connecting vector and the normal vector and adds this information to the \n",
    "        DataFrame.\n",
    "\n",
    "    Example:\n",
    "        >>> angles_df = compute_angles(top_centroids_df, base_centroids_df, caption_pairs_df)\n",
    "        >>> print(angles_df.head())\n",
    "    \"\"\"\n",
    "    # Merge point coordinates DataFrames using the caption_pairs DataFrame\n",
    "    top_centroids_captions_merged_df = pd.merge(caption_pairs_df, top_layer_centroids_df[['Caption', 'PosX', 'PosY', 'PosZ']], how = 'inner', left_on = 'TopLayer', right_on = 'Caption')\n",
    "    top_centroids_captions_merged_df.drop(columns = ['Caption'], inplace = True)\n",
    "    top_centroids_captions_merged_df = top_centroids_captions_merged_df.rename(columns = {'PosX': 'PosXTop', 'PosY': 'PosYTop', 'PosZ': 'PosZTop'})\n",
    "    \n",
    "    centroids_captions_merged_df = pd.merge(top_centroids_captions_merged_df, base_layer_centroids_df[['Caption', 'PosX', 'PosY', 'PosZ']], how = 'inner', left_on = 'BaseLayer', right_on = 'Caption')\n",
    "    centroids_captions_merged_df.drop(columns = ['Caption'], inplace = True)\n",
    "    centroids_captions_merged_df = centroids_captions_merged_df.rename(columns = {'PosX': 'PosXBase', 'PosY': 'PosYBase', 'PosZ': 'PosZBase'})\n",
    "\n",
    "    # Create connecting vectors\n",
    "    centroids_captions_merged_df['ConnectingVectorX'] = centroids_captions_merged_df['PosXTop'] - centroids_captions_merged_df['PosXBase']\n",
    "    centroids_captions_merged_df['ConnectingVectorY'] = centroids_captions_merged_df['PosYTop'] - centroids_captions_merged_df['PosYBase']\n",
    "    centroids_captions_merged_df['ConnectingVectorZ'] = centroids_captions_merged_df['PosZTop'] - centroids_captions_merged_df['PosZBase']\n",
    "\n",
    "    base_layer_centroid_coords = base_layer_centroids_df[['PosX', 'PosY', 'PosZ']].values\n",
    "    \n",
    "    # Get the vector normal to the base plane\n",
    "    normal_vector = compute_plane_eqn_from_points(base_layer_centroid_coords, 'Base')\n",
    "    \n",
    "    # Compute the connecting vectors connecting the centroids of a cell in the top and base layer\n",
    "    connecting_vectors = centroids_captions_merged_df[['ConnectingVectorX', 'ConnectingVectorY', 'ConnectingVectorZ']].values\n",
    "    \n",
    "    # Compute the angle between the connecting vector and the normal vector\n",
    "    angle_degrees = np.degrees(np.arccos(np.dot(connecting_vectors, normal_vector) / np.linalg.norm(connecting_vectors, axis = 1)))\n",
    "\n",
    "    centroids_captions_merged_df['AngleOfTilt'] = angle_degrees\n",
    "\n",
    "    return centroids_captions_merged_df"
   ]
  },
  {
   "cell_type": "code",
   "execution_count": 4,
   "id": "6ff774d2-5798-4933-a986-8e279a92feb3",
   "metadata": {},
   "outputs": [],
   "source": [
    "def compute_and_write_angles(dataset):\n",
    "    \"\"\"\n",
    "    Compute the angles of tilt for a dataset. Driver function for compute_angles().\n",
    "\n",
    "    Parameters:\n",
    "        dataset (string): Dataset to compute the angles for.\n",
    "\n",
    "    Returns:\n",
    "        No return value.\n",
    "    \"\"\"\n",
    "    # Read point coordinates for the Base and Top layers\n",
    "    top_layer_centroids_df = pd.read_csv('angle_data/TopLayerCentroids_' + dataset + '.csv')\n",
    "    base_layer_centroids_df = pd.read_csv('angle_data/BaseLayerCentroids_' + dataset + '.csv')\n",
    "    \n",
    "    # Read caption pairs\n",
    "    caption_pairs_df = pd.read_csv('angle_data/' + dataset + '_caption_pairs.csv')\n",
    "    \n",
    "    # Get angles of tilt\n",
    "    angles_df = compute_angles(top_layer_centroids_df, base_layer_centroids_df, caption_pairs_df)\n",
    "    \n",
    "    # Save angle of tilt DataFrame\n",
    "    angles_df.to_csv('angle_data/' + dataset + '_single_cell_tilts.csv')"
   ]
  },
  {
   "cell_type": "markdown",
   "id": "bacd9d4e-9830-4e5d-a5df-5dd428637767",
   "metadata": {},
   "source": [
    "# Compute angles for all datasets"
   ]
  },
  {
   "cell_type": "code",
   "execution_count": 5,
   "id": "4c21173c-8f02-4f29-acc9-2b4cc05b258e",
   "metadata": {},
   "outputs": [],
   "source": [
    "# Compute the angles and write them into a CSV file for all tilt datasets\n",
    "datasets = ['1x', '1o25x', '1o5x', '1o75x', '2x']\n",
    "\n",
    "for dataset in datasets:\n",
    "    compute_and_write_angles(dataset)"
   ]
  },
  {
   "cell_type": "markdown",
   "id": "e0a82c31-afdf-4795-888e-cec8ae284a2e",
   "metadata": {},
   "source": [
    "### Violin plot of distributions for all angles"
   ]
  },
  {
   "cell_type": "code",
   "execution_count": 6,
   "id": "09d62e21-cd26-496f-9966-38f33050faf8",
   "metadata": {},
   "outputs": [],
   "source": [
    "angles_1x_df = pd.read_csv('angle_data/1x_single_cell_tilts.csv')\n",
    "angles_1x_df['Dataset'] = '1x'\n",
    "angles_1o25x_df = pd.read_csv('angle_data/1o25x_single_cell_tilts.csv')\n",
    "angles_1o25x_df['Dataset'] = '1o25x'\n",
    "angles_1o5x_df = pd.read_csv('angle_data/1o5x_single_cell_tilts.csv')\n",
    "angles_1o5x_df['Dataset'] = '1o5x'\n",
    "angles_1o75x_df = pd.read_csv('angle_data/1o75x_single_cell_tilts.csv')\n",
    "angles_1o75x_df['Dataset'] = '1o75x'\n",
    "angles_2x_df = pd.read_csv('angle_data/2x_single_cell_tilts.csv')\n",
    "angles_2x_df['Dataset'] = '2x'\n",
    "\n",
    "angles_df = pd.concat([angles_1x_df, angles_1o25x_df, angles_1o5x_df, angles_1o75x_df, angles_2x_df])"
   ]
  },
  {
   "cell_type": "code",
   "execution_count": 7,
   "id": "5e6fc5a7-d74e-4a38-802b-ef1d775269c2",
   "metadata": {},
   "outputs": [
    {
     "data": {
      "image/png": "[encoded data removed]",
      "text/plain": [
       "<Figure size 640x480 with 1 Axes>"
      ]
     },
     "metadata": {},
     "output_type": "display_data"
    }
   ],
   "source": [
    "ax = sns.violinplot(data = angles_df, x = 'Dataset', y = 'AngleOfTilt')\n",
    "ax.set_title('Angle of tilt violin distributions')\n",
    "sns.despine()\n",
    "ax.figure.savefig('figures/angle_of_tilt_violin_plot.png', dpi=600)"
   ]
  },
  {
   "cell_type": "markdown",
   "id": "43b20c85-7949-41c4-8f68-102a12bb378e",
   "metadata": {},
   "source": [
    "# Create caption pairs for a dataset"
   ]
  },
  {
   "cell_type": "code",
   "execution_count": 19,
   "id": "59477733-b48a-4fd2-88f8-5a7c71d98c29",
   "metadata": {},
   "outputs": [],
   "source": [
    "#########################################################################################################\n",
    "# BE CAREFUL WHILE RUNNING THIS CELL. EXISTING DATA MAY BE OVERWRITTEN WRONGLY IF NOT CAREFUL AND A LOT \n",
    "# OF REWORK WILL BE REQUIRED TO FIX THE DATA\n",
    "#########################################################################################################\n",
    "# Create pairs of top and base layer centroid captions belonging to the same cell\n",
    "caption_pairs = {\n",
    "    'BaseLayer': [18, 13, 19, 16, 11, 3, 15, 7, 8, 1, 17, 12, 10, 4, 6, 9],\n",
    "    'TopLayer': [14, 9, 16, 6, 8, 10, 12, 15, 11, 18, 22, 19, 21, 13, 17, 20]\n",
    "}\n",
    "\n",
    "caption_pairs_df = pd.DataFrame(caption_pairs)\n",
    "# caption_pairs_df.to_csv('1o75x_caption_pairs.csv', index = False)"
   ]
  },
  {
   "cell_type": "code",
   "execution_count": null,
   "id": "61fcd545-1d2b-4cae-ad59-2f25f91e2e9f",
   "metadata": {},
   "outputs": [],
   "source": []
  }
 ],
 "metadata": {
  "kernelspec": {
   "display_name": "Python 3 (ipykernel)",
   "language": "python",
   "name": "python3"
  },
  "language_info": {
   "codemirror_mode": {
    "name": "ipython",
    "version": 3
   },
   "file_extension": ".py",
   "mimetype": "text/x-python",
   "name": "python",
   "nbconvert_exporter": "python",
   "pygments_lexer": "ipython3",
   "version": "3.10.12"
  }
 },
 "nbformat": 4,
 "nbformat_minor": 5
}
